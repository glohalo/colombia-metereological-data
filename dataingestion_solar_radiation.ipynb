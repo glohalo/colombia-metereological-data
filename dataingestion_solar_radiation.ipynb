{
 "cells": [
  {
   "cell_type": "code",
   "execution_count": null,
   "metadata": {},
   "outputs": [],
   "source": [
    "# Importing the basic libraries we will require for the project\n",
    "\n",
    "# Libraries to help with reading and manipulating data\n",
    "import pandas as pd\n",
    "import numpy as np\n",
    "#importing global\n",
    "import glob\n",
    "# Code to ignore warnings from function usage\n",
    "import warnings;\n",
    "import numpy as np\n",
    "warnings.filterwarnings('ignore')"
   ]
  },
  {
   "cell_type": "code",
   "execution_count": null,
   "metadata": {},
   "outputs": [],
   "source": [
    "_data = pd.read_csv('path/data_irradiancia_all.csv', parse_dates=['FECHA/HORA'])"
   ]
  },
  {
   "cell_type": "code",
   "execution_count": null,
   "metadata": {},
   "outputs": [],
   "source": [
    "#reading the stations, department and regions\n",
    "data_stations = pd.read_csv('path/irradiancia_cod_region.csv')\n",
    "data_stations.head()"
   ]
  },
  {
   "cell_type": "code",
   "execution_count": null,
   "metadata": {},
   "outputs": [],
   "source": [
    "# filtering the region\n",
    "_data_stations = data_stations[data_stations['Region']=='Caribe']"
   ]
  },
  {
   "cell_type": "code",
   "execution_count": null,
   "metadata": {},
   "outputs": [],
   "source": [
    "def match_region(value):\n",
    "    #check if this code exits in data_stations\n",
    "    if value in _data_stations.values:\n",
    "        get_index = _data_stations[_data_stations['Codigo']==value].index\n",
    "        get_region = _data_stations.loc[get_index, 'Region']\n",
    "        #print(get_region.values[0])\n",
    "        return get_region.values[0]\n",
    "    else:\n",
    "        return ''\n"
   ]
  },
  {
   "cell_type": "code",
   "execution_count": null,
   "metadata": {},
   "outputs": [],
   "source": [
    "def match_departamento(value):\n",
    "    #check if this code exits in data_stations\n",
    "    if value in data_stations.values:\n",
    "        get_index = data_stations[data_stations['Codigo']==value].index\n",
    "        get_departamento = data_stations.loc[get_index, 'Departamento']\n",
    "        #print(get_region.values[0])\n",
    "        return get_departamento.values[0]\n",
    "    else:\n",
    "        return ''\n"
   ]
  },
  {
   "cell_type": "code",
   "execution_count": null,
   "metadata": {},
   "outputs": [],
   "source": [
    "import time\n",
    "\n",
    "# Grab Currrent Time Before Running the Code\n",
    "start = time.time()\n",
    "\n",
    "_data['Region'] = _data['ESTACION'].apply(match_region)\n",
    "\n",
    "# Grab Currrent Time After Running the Code\n",
    "end = time.time()\n",
    "\n",
    "#Subtract Start Time from The End Time\n",
    "total_time = end - start\n",
    "print(\"\\n\"+ str(total_time))"
   ]
  },
  {
   "cell_type": "code",
   "execution_count": null,
   "metadata": {},
   "outputs": [],
   "source": [
    "_data_filtered = _data[_data['Region']=='Caribe']"
   ]
  },
  {
   "cell_type": "code",
   "execution_count": null,
   "metadata": {},
   "outputs": [],
   "source": [
    "#departamento\n",
    "\n",
    "# Grab Currrent Time Before Running the Code\n",
    "start = time.time()\n",
    "\n",
    "_data_filtered['DEPARTAMENTO'] = _data_filtered['ESTACION'].apply(match_departamento)\n",
    "\n",
    "# Grab Currrent Time After Running the Code\n",
    "end = time.time()\n",
    "\n",
    "#Subtract Start Time from The End Time\n",
    "total_time = end - start\n",
    "print(\"\\n\"+ str(total_time))"
   ]
  },
  {
   "cell_type": "code",
   "execution_count": null,
   "metadata": {},
   "outputs": [],
   "source": [
    "_data_filtered = _data_filtered.reset_index().drop(['index'], axis=1)\n",
    "_data_filtered = _data_filtered.drop"
   ]
  },
  {
   "cell_type": "code",
   "execution_count": null,
   "metadata": {},
   "outputs": [],
   "source": [
    "_data_filtered = _data_filtered.drop(['level_0'], axis=1)"
   ]
  },
  {
   "cell_type": "code",
   "execution_count": null,
   "metadata": {},
   "outputs": [],
   "source": [
    "_data_filtered.to_csv('path/irradiancia_caribeStationsFrom2012.csv',index=False)"
   ]
  }
 ],
 "metadata": {
  "language_info": {
   "name": "python"
  }
 },
 "nbformat": 4,
 "nbformat_minor": 2
}
